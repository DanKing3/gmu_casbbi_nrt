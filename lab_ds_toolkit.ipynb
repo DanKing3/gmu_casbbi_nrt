{
  "cells": [
    {
      "cell_type": "markdown",
      "metadata": {
        "id": "likxj0I80TQP"
      },
      "source": [
        "# Activity - Data Science Toolkit"
      ]
    },
    {
      "cell_type": "markdown",
      "metadata": {
        "id": "C1kLCNtb0TQS"
      },
      "source": [
        "1. Create a GitHub account in the following [link](https://github.com/join).\n",
        "1. Create a GitHub repository named `gmu_casbbi_nrt`. You can do it directly here https://github.com/new.\n",
        "1. Launch this file in Google Colab pressing the `Launch Botton` in the upper right corner and then select `Colab`.\n",
        "1. Modify the next cell with your answers.\n",
        "1. Run all the cells.\n",
        "1. Save the notebook as `about_me.ipynb` in your local files.\n",
        "1. Upload it to your GitHub repository you just created."
      ]
    },
    {
      "cell_type": "code",
      "execution_count": 1,
      "metadata": {
        "id": "qgtgZ76y0TQW"
      },
      "outputs": [],
      "source": [
        "name = \"Dan G. Kingsley\"\n",
        "i_am_from = \"Boulder, Colorado\"\n",
        "program = \"Psychology Masters\"\n",
        "about_me = \"I like reading\"\n",
        "fun_fact = \"I lived in Europe as a teen\"\n",
        "reason_apply = \"I really enjoy baking\""
      ]
    },
    {
      "cell_type": "code",
      "execution_count": 2,
      "metadata": {
        "id": "_UjE9iXS0TQY",
        "outputId": "96748182-7386-4b0b-fa36-777889075b72",
        "colab": {
          "base_uri": "https://localhost:8080/"
        }
      },
      "outputs": [
        {
          "output_type": "stream",
          "name": "stdout",
          "text": [
            "\n",
            "    My name is Dan G. Kingsley, I am from Boulder, Colorado and I am enrolled in the Psychology Masters program at GMU.\n",
            "\n",
            "    I like reading. And a fun fact about me is that I lived in Europe as a teen.\n",
            "\n",
            "    I applied to the CASBBI's NRT program because I really enjoy baking.\n",
            "    \n"
          ]
        }
      ],
      "source": [
        "print(\n",
        "    f\"\"\"\n",
        "    My name is {name}, I am from {i_am_from} and I am enrolled in the {program} program at GMU.\n",
        "\n",
        "    {about_me}. And a fun fact about me is that {fun_fact}.\n",
        "\n",
        "    I applied to the CASBBI's NRT program because {reason_apply}.\n",
        "    \"\"\"\n",
        ")"
      ]
    }
  ],
  "metadata": {
    "kernelspec": {
      "display_name": "casbbi-nrt-ds",
      "language": "python",
      "name": "python3"
    },
    "language_info": {
      "codemirror_mode": {
        "name": "ipython",
        "version": 3
      },
      "file_extension": ".py",
      "mimetype": "text/x-python",
      "name": "python",
      "nbconvert_exporter": "python",
      "pygments_lexer": "ipython3",
      "version": "3.11.0"
    },
    "orig_nbformat": 4,
    "colab": {
      "provenance": []
    }
  },
  "nbformat": 4,
  "nbformat_minor": 0
}